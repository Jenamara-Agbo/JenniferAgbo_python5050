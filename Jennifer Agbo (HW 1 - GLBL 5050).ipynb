{
 "cells": [
  {
   "cell_type": "markdown",
   "metadata": {},
   "source": [
    "## Homework 1"
   ]
  },
  {
   "cell_type": "code",
   "execution_count": null,
   "metadata": {},
   "outputs": [],
   "source": [
    "1. What is a markdown cell in jupyter notebook and how do I change a cell from a markdown cell to a code cell? Use a markdown cell type for this answer."
   ]
  },
  {
   "cell_type": "markdown",
   "metadata": {},
   "source": [
    "Your answer here (Please use a markdown cell): A markdown cell in Jupyter notebook enables one to edit and format cells without executing any code. It is used to prepare documents, notes and presentation. To change a cell to from a markedown cell to code cell, select the required cell, move your cursor to the drop down menu displaying markdown, and change to code."
   ]
  },
  {
   "cell_type": "markdown",
   "metadata": {},
   "source": [
    "2. In Python, what is the difference between =(single equal) and == (double equal)? Please give an example of each."
   ]
  },
  {
   "cell_type": "markdown",
   "metadata": {},
   "source": [
    "Your answer here: \n",
    "=(single equal), is used for assignments of variables; while ==(double equal) is used for evaluation and also functions as an equality operator.\n",
    "\n",
    "Examples: \n",
    "y=6  #This assigns 6 to the variable y, and when y is printed below, the result will be 6. \n",
    "print(y)\n",
    "\n",
    "3==6  #The double equals here represents equality, and the result will be false since 3 is not equal to 6"
   ]
  },
  {
   "cell_type": "markdown",
   "metadata": {},
   "source": [
    "3. If I am commenting on my code in a cell, what are the two ways to do this in Python?"
   ]
  },
  {
   "cell_type": "code",
   "execution_count": null,
   "metadata": {},
   "outputs": [],
   "source": [
    "Your answer here: \n",
    "First, use the hastag sign (#This is a comment)\n",
    "Second, use the triple quotes (\"\"\"This is a comment\"\"\")"
   ]
  },
  {
   "cell_type": "markdown",
   "metadata": {},
   "source": [
    "4. Assign your name, your Yale program, and your year of graduation equal to variables of your choosing. Then write a print statement using an \"f string\" that says \"Hello, my name is (name). I am in Yale's (program) and I hope to graduate in (year).\""
   ]
  },
  {
   "cell_type": "code",
   "execution_count": 5,
   "metadata": {},
   "outputs": [
    {
     "name": "stdin",
     "output_type": "stream",
     "text": [
      "What is your name:  Jennifer\n",
      "What program are in:  IDE\n",
      "Which year are you graduating:  2025\n"
     ]
    },
    {
     "name": "stdout",
     "output_type": "stream",
     "text": [
      "Hello, my name is Jennifer. I am in Yale's IDE and I hope to graduate in 2025.\n"
     ]
    }
   ],
   "source": [
    "#Your answer here: \n",
    "name=input(\"What is your name: \")\n",
    "program=input(\"What program are in: \")\n",
    "year=input(\"Which year are you graduating: \")\n",
    "print(f\"Hello, my name is {name}. I am in Yale's {program} and I hope to graduate in {year}.\")"
   ]
  },
  {
   "cell_type": "markdown",
   "metadata": {},
   "source": [
    "5. Write the mathematical operators for the following using a markdown cell type and give a code example of each:\n",
    "\n",
    "For example: plus: + , 3 + 4\n",
    "\n",
    "minus:\n",
    "\n",
    "multiply:\n",
    "\n",
    "divide:\n",
    "\n",
    "find the remainder of two numbers divided:\n",
    "\n",
    "square: (as in 3 squared is 9)\n",
    "\n",
    "cube: (as in 2 cubed is 8)\n",
    "\n",
    "greater than:\n",
    "\n",
    "greater than or equal to:\n",
    "\n",
    "less than:\n",
    "\n",
    "less than or equal to:"
   ]
  },
  {
   "cell_type": "markdown",
   "metadata": {},
   "source": [
    "minus: -, 5-2\r\n",
    "\r\n",
    "multipl *, 5*2y:\r\n",
    "\r\n",
    "div /, 5/2ide:\r\n",
    "\r\n",
    "find the remainder of two numbers di 5%2vided:\r\n",
    "\r\n",
    "square: (as in 3 squar **, 3**2ed is 9)\r\n",
    "\r\n",
    "cube: (as in 2 c **, 2**3ubed is 8)\r\n",
    "\r\n",
    "g >, 8>3reater than:\r\n",
    "\r\n",
    "greater tha >=, 8>=8n or equal t <, 3<4o:\r\n",
    "\r\n",
    "less than:\r\n",
    "\r\n",
    "less <=, 4<=4 than or equal to:"
   ]
  },
  {
   "cell_type": "markdown",
   "metadata": {},
   "source": [
    "6. What is the built-in Python function to determine the type of an object? Give four examples of using this function on four different object types."
   ]
  },
  {
   "cell_type": "code",
   "execution_count": 29,
   "metadata": {},
   "outputs": [
    {
     "name": "stdout",
     "output_type": "stream",
     "text": [
      "<class 'int'>\n",
      "<class 'bool'>\n",
      "<class 'str'>\n",
      "<class 'list'>\n"
     ]
    }
   ],
   "source": [
    "#Your answer here: \n",
    "#Built-in Python functions is type()\n",
    "\n",
    "#Examples are:\n",
    "print(type(10)) #Integer\n",
    "print(type(True)) #Boolean\n",
    "print(type(\"Jennifer\"))  #String\n",
    "print(type([1,2,3,4]))  #List"
   ]
  },
  {
   "cell_type": "markdown",
   "metadata": {},
   "source": [
    "7. Use the \"replace\" method in python so that the following occurs:\n",
    "\n",
    "greeting = \"Hello there students!\"\n",
    "becomes\n",
    "print(greeting)\n",
    "output: \"Hello there Pythonistas!\""
   ]
  },
  {
   "cell_type": "code",
   "execution_count": 111,
   "metadata": {},
   "outputs": [
    {
     "name": "stdout",
     "output_type": "stream",
     "text": [
      "Hello their students!\n",
      "Hello their Pythonistas!\n"
     ]
    }
   ],
   "source": [
    "#your code here:\n",
    "greeting = \"Hello their students!\"\n",
    "print(greeting)\n",
    "\n",
    "#now using the replace method\n",
    "greeting = greeting.replace(\"students\", \"Pythonistas\")\n",
    "print(greeting)"
   ]
  },
  {
   "cell_type": "markdown",
   "metadata": {},
   "source": [
    "8.In the following code:\n",
    "agreement = \"Paris Agreement\" \n",
    "agreement.replace(\"Paris\", \"Moon\") \n",
    "print(agreement)\n",
    "\n",
    "The output is \"Paris Agreement\", not \"Moon Agreement\"\n",
    "\n",
    "Please explain why that is the case. \n"
   ]
  },
  {
   "cell_type": "markdown",
   "metadata": {},
   "source": [
    "Your answer here: This beacause Python creates new type of string after the replacement, and no variable was created to store that replacement thus the original agreement string is not modified in place, and that is what python printed"
   ]
  },
  {
   "cell_type": "markdown",
   "metadata": {},
   "source": [
    "9. Now fix the code using the replace method so that:\n",
    "   agreement = \"Paris Agreement\"\n",
    "   when you write:\n",
    "   print(agreement)\n",
    "   output is \"Moon Agreement\""
   ]
  },
  {
   "cell_type": "code",
   "execution_count": 35,
   "metadata": {},
   "outputs": [
    {
     "name": "stdout",
     "output_type": "stream",
     "text": [
      "Moon Agreement\n"
     ]
    }
   ],
   "source": [
    "#Your answer here:\n",
    "agreement = \"Paris Agreement\" \n",
    "agreement = agreement.replace(\"Paris\", \"Moon\") \n",
    "print(agreement)"
   ]
  },
  {
   "cell_type": "markdown",
   "metadata": {},
   "source": [
    "10. Please explain why the statement returns \"False\" and write code that fixes the error:\n",
    "\n",
    ".3 + .3 + .3 == .9\n",
    "\n",
    "Answer: \n",
    "The statement returns False because 0.3 is a float, and the addition leads to smaller rounding numbers. \n",
    "In this case, .3 + .3 + .3 doesn't exactly equal 0.9. The \"Round\" function is used to fix this"
   ]
  },
  {
   "cell_type": "code",
   "execution_count": 43,
   "metadata": {},
   "outputs": [
    {
     "data": {
      "text/plain": [
       "True"
      ]
     },
     "execution_count": 43,
     "metadata": {},
     "output_type": "execute_result"
    }
   ],
   "source": [
    "#Your code here:\n",
    "round(.3 + .3 + .3) == round(.9)"
   ]
  },
  {
   "cell_type": "markdown",
   "metadata": {},
   "source": [
    "11. I want to make a tip calculator. Step one:\n",
    "Please use the input method to accept an input from a user prompting them with \"Please enter a price of the meal\" and save\n",
    " it to the variable \"price\""
   ]
  },
  {
   "cell_type": "code",
   "execution_count": 113,
   "metadata": {},
   "outputs": [
    {
     "name": "stdin",
     "output_type": "stream",
     "text": [
      "Please enter a price of the meal:  3\n"
     ]
    },
    {
     "name": "stdout",
     "output_type": "stream",
     "text": [
      "The price of the meal is: 3\n"
     ]
    }
   ],
   "source": [
    "#Your code here:\n",
    "price = input(\"Please enter a price of the meal: \")\n",
    "print(\"The price of the meal is:\", price)"
   ]
  },
  {
   "cell_type": "code",
   "execution_count": 55,
   "metadata": {},
   "outputs": [
    {
     "name": "stdin",
     "output_type": "stream",
     "text": [
      "Please enter the price of the meal:  3\n"
     ]
    },
    {
     "ename": "TypeError",
     "evalue": "can't multiply sequence by non-int of type 'float'",
     "output_type": "error",
     "traceback": [
      "\u001b[1;31m---------------------------------------------------------------------------\u001b[0m",
      "\u001b[1;31mTypeError\u001b[0m                                 Traceback (most recent call last)",
      "Cell \u001b[1;32mIn[55], line 5\u001b[0m\n\u001b[0;32m      1\u001b[0m \u001b[38;5;241m12.\u001b[39m \u001b[38;5;66;03m#Here is a script I wrote for a tip calculator:\u001b[39;00m\n\u001b[0;32m      3\u001b[0m price \u001b[38;5;241m=\u001b[39m \u001b[38;5;28minput\u001b[39m(\u001b[38;5;124m\"\u001b[39m\u001b[38;5;124mPlease enter the price of the meal: \u001b[39m\u001b[38;5;124m\"\u001b[39m )\n\u001b[1;32m----> 5\u001b[0m tip \u001b[38;5;241m=\u001b[39m price \u001b[38;5;241m*\u001b[39m \u001b[38;5;241m0.22\u001b[39m\n\u001b[0;32m      7\u001b[0m total \u001b[38;5;241m=\u001b[39m price \u001b[38;5;241m+\u001b[39m tip\n\u001b[0;32m      9\u001b[0m \u001b[38;5;28mprint\u001b[39m(\u001b[38;5;124m\"\u001b[39m\u001b[38;5;124mA 16\u001b[39m\u001b[38;5;124m%\u001b[39m\u001b[38;5;124m tip would be: \u001b[39m\u001b[38;5;124m\"\u001b[39m, tip)\n",
      "\u001b[1;31mTypeError\u001b[0m: can't multiply sequence by non-int of type 'float'"
     ]
    }
   ],
   "source": [
    "12. #Here is a script I wrote for a tip calculator:\n",
    "                        \n",
    "price = input(\"Please enter the price of the meal: \" )\n",
    "\n",
    "tip = price * 0.22\n",
    "\n",
    "total = price + tip\n",
    "\n",
    "print(\"A 16% tip would be: \", tip)\n",
    "\n",
    "print(\"The total including tip would be: \", total)\n",
    "\n",
    "#The problem is it throws an error! Can you look at this code and see why it is throwing an error without running it? "
   ]
  },
  {
   "cell_type": "markdown",
   "metadata": {},
   "source": [
    "#Your answer here:\n",
    "It displayed an error becasue two different objects were being multiplied and added to each other. Price should be converted to the correct number type which is \"float\" in this context.\n",
    "A float should be attached to the input since the total adds the price to the tip which has a float. \n",
    "This way, it won't return any error no matter the number inputted."
   ]
  },
  {
   "cell_type": "markdown",
   "metadata": {},
   "source": [
    "13. Please fix the above code and run it:"
   ]
  },
  {
   "cell_type": "code",
   "execution_count": 67,
   "metadata": {},
   "outputs": [
    {
     "name": "stdin",
     "output_type": "stream",
     "text": [
      "Please enter the price of the meal:  7\n"
     ]
    },
    {
     "name": "stdout",
     "output_type": "stream",
     "text": [
      "A 16% tip would be:  1.54\n",
      "The total including tip would be:  8.54\n"
     ]
    }
   ],
   "source": [
    "#Your code here:\n",
    "price = float(input(\"Please enter the price of the meal: \" ))\n",
    "\n",
    "tip = price * 0.22\n",
    "\n",
    "total = price + tip\n",
    "\n",
    "print(\"A 16% tip would be: \", tip)\n",
    "\n",
    "print(\"The total including tip would be: \", total)"
   ]
  },
  {
   "cell_type": "markdown",
   "metadata": {},
   "source": [
    "14. Write a script that takes a user inputted string and checks whether if they are the following\n",
    "\n",
    "if it is all alphabets\n",
    "if it is numeric\n",
    "if it is all upper case\n",
    "if it is all lower case"
   ]
  },
  {
   "cell_type": "code",
   "execution_count": 119,
   "metadata": {},
   "outputs": [
    {
     "name": "stdin",
     "output_type": "stream",
     "text": [
      "Please type in some words or letters here:  3erA\n"
     ]
    },
    {
     "name": "stdout",
     "output_type": "stream",
     "text": [
      "The string is unidentified, it might be alphanumeric. Try again later!\n"
     ]
    },
    {
     "name": "stdin",
     "output_type": "stream",
     "text": [
      "Please type in some words or letters here:  Ae4rf6\n"
     ]
    },
    {
     "name": "stdout",
     "output_type": "stream",
     "text": [
      "The string is not upper case\n",
      "The string is not lower case\n",
      "The string is does not contain alphabets\n",
      "The string is not numeric\n"
     ]
    }
   ],
   "source": [
    "#Your code here:\n",
    "string = input(\"Please type in some words or letters here: \")\n",
    "if string.isupper():\n",
    "    print(\"The string is upper case.\")\n",
    "elif string.islower():\n",
    "    print(\"The string is lower case.\")\n",
    "elif string.isalpha():\n",
    "    print(\"The string contains alphabets.\")\n",
    "elif string.isnumeric():\n",
    "    print(\"The string is numeric\")\n",
    "else:\n",
    "    print(\"The string is unidentified, it might be alphanumeric. Try again later!\")\n",
    "\n",
    "\n",
    "#Alternatively - it seems the code below provides answers for all the options, while the\n",
    "#above directly tells if it is numeric, alphabets, lowercase or uppercase\n",
    "string = input(\"Please type in some words or letters here: \")\n",
    "if string.isupper():\n",
    "    print(\"The string is upper case.\")\n",
    "else:\n",
    "    print(\"The string is not upper case\")\n",
    "    \n",
    "if string.islower():\n",
    "    print(\"The string is lower case.\")\n",
    "else:\n",
    "    print(\"The string is not lower case\")\n",
    "\n",
    "if string.isalpha():\n",
    "    print(\"The string contains both numbers and alphabets.\")\n",
    "else:\n",
    "    print(\"The string is does not contain alphabets\")\n",
    "    \n",
    "if string.isnumeric():\n",
    "    print(\"The string is numeric\")\n",
    "else:\n",
    "    print(\"The string is not numeric\")\n",
    "\n",
    "#I noticed the code does not recognize alphanumeric string"
   ]
  },
  {
   "cell_type": "code",
   "execution_count": null,
   "metadata": {},
   "outputs": [],
   "source": [
    "15. Write a script that takes a user inputted target_string of your chosing and prints it out in the following three formats.\n",
    "\n",
    "All letters capitalized - capitalize( )\n",
    "All letters lowercase - lower( )\n",
    "All vowels lowercase and all consonants uppercase "
   ]
  },
  {
   "cell_type": "raw",
   "metadata": {},
   "source": []
  },
  {
   "cell_type": "code",
   "execution_count": 123,
   "metadata": {},
   "outputs": [
    {
     "name": "stdin",
     "output_type": "stream",
     "text": [
      "Input any string of your choice:  hello WORLD\n"
     ]
    },
    {
     "name": "stdout",
     "output_type": "stream",
     "text": [
      "Target_string capitalized: Hello world\n",
      "Target_string upper: HELLO WORLD\n",
      "Target_string lowercase: hello world\n",
      "New Target_String's Vowels lowercase and consonants uppercase: HeLLo WoRLD\n"
     ]
    }
   ],
   "source": [
    "#Your code here\n",
    "target_string = input(\"Input any string of your choice: \")\n",
    "print(\"Target_string capitalized:\",target_string.capitalize()) #This makes the firs letter to be capitalized\n",
    "print(\"Target_string upper:\",target_string.upper()) #This makes all the target-string to be upper case\n",
    "print(\"Target_string lowercase:\", target_string.lower())   #This makes all the target-string to be lower case\n",
    "\n",
    "#For the vowel and consonats\n",
    "vowels_letters = \"aeiouAEIOU\"\n",
    "add_target_string = \"\" #This is an empty string containing all lower case of the vowel,and upper case of the consonants will be\n",
    "\n",
    "#Using a for loop to run through the codes\n",
    "for i in target_string:\n",
    "    if i in vowels_letters:\n",
    "        add_target_string += i.lower()   #if any of the letter in target_string is matched with the lower case of the vowel, then it be addd to the add_vowels\n",
    "    else:\n",
    "        add_target_string += i.upper()  #the upper case will be add here\n",
    "\n",
    "print(\"New Target_String's Vowels lowercase and consonants uppercase:\", add_target_string)\n",
    "\n",
    "#N.B: I noticed that numbers are considered consonants in this code too"
   ]
  },
  {
   "cell_type": "markdown",
   "metadata": {},
   "source": [
    "16. Assuming a package is not part of the Anaconda build of Python used, how would I:\n",
    "a. install a package from my terminal?\n",
    "b. install a package from my Jupyter notebook ?\n",
    "c. import a package ? \n",
    "d. what happens when if I write \"import this\" but don't name a package? (run it below)"
   ]
  },
  {
   "cell_type": "code",
   "execution_count": null,
   "metadata": {},
   "outputs": [],
   "source": [
    "#Your code here:\n",
    "#a.\n",
    "#b.\n",
    "#c. \n",
    "#d.\n",
    "import this"
   ]
  },
  {
   "cell_type": "code",
   "execution_count": 5,
   "metadata": {},
   "outputs": [
    {
     "ename": "SyntaxError",
     "evalue": "invalid decimal literal (985703228.py, line 1)",
     "output_type": "error",
     "traceback": [
      "\u001b[0;36m  Cell \u001b[0;32mIn[5], line 1\u001b[0;36m\u001b[0m\n\u001b[0;31m    13.statement= 'It's truly one of my favorite quotes: \"Success depends on intuition, on seeing what afterwards proves to be true but cannot be established at the moment\"\u001b[0m\n\u001b[0m      ^\u001b[0m\n\u001b[0;31mSyntaxError\u001b[0m\u001b[0;31m:\u001b[0m invalid decimal literal\n"
     ]
    }
   ],
   "source": [
    "17.statement= 'It's truly one of my favorite quotes: \"Success depends on intuition, on seeing what afterwards proves to be true but cannot be established at the moment\"\n",
    "#To whom is the previous quote atributed?"
   ]
  },
  {
   "cell_type": "markdown",
   "metadata": {},
   "source": [
    "Your answer here: The statement should be quoted correctly. The beginning quote was a single quote (') and conflicted with the single quote in \"it's\". Additionally, the double quotation for the second sentence was mismatched. The hashtag (#) also couldn't function properly because the string was still open, causing it to be interpreted as part of the string."
   ]
  },
  {
   "cell_type": "code",
   "execution_count": null,
   "metadata": {},
   "outputs": [],
   "source": [
    "18. Copy the code above to the cell below. Run it. Why is it throwing an error? Please fix it."
   ]
  },
  {
   "cell_type": "code",
   "execution_count": 125,
   "metadata": {},
   "outputs": [
    {
     "name": "stdout",
     "output_type": "stream",
     "text": [
      "It's truly one of my favorite quotes: 'Success depends on intuition, on seeing what afterwards proves to be true but cannot be established at the moment'\n"
     ]
    }
   ],
   "source": [
    "#Your answer here: Statement should have been quotted properly. The beginning quote was ' and conflicts with the ' in \"it's\". Again the double quotation for the second sentence also was a mismatch. Again, the hashtag (#) couldn't function because the spring was still open, and thus it was considered a spring.\n",
    "#Your code here: \n",
    "\n",
    "statement= \"It's truly one of my favorite quotes: 'Success depends on intuition, on seeing what afterwards proves to be true but cannot be established at the moment'\" #To whom is the previous quote atributed?\n",
    "print(statement)"
   ]
  },
  {
   "cell_type": "markdown",
   "metadata": {},
   "source": [
    "19. Write code, using the strip() method  to remove the white spaces from the beginning and the end of the following and print below:\n",
    "\n"
   ]
  },
  {
   "cell_type": "code",
   "execution_count": 9,
   "metadata": {},
   "outputs": [
    {
     "data": {
      "text/plain": [
       "\"Hi students. What's going on?!\""
      ]
     },
     "execution_count": 9,
     "metadata": {},
     "output_type": "execute_result"
    }
   ],
   "source": [
    "greeting = \"   Hi students. What's going on?!       \"\n",
    "# You answer here: \n",
    "greeting.strip()"
   ]
  },
  {
   "cell_type": "code",
   "execution_count": null,
   "metadata": {},
   "outputs": [],
   "source": [
    "20. (2pt) How do you convert a string to all lowercase? Give an example."
   ]
  },
  {
   "cell_type": "code",
   "execution_count": 11,
   "metadata": {},
   "outputs": [
    {
     "data": {
      "text/plain": [
       "'hello'"
      ]
     },
     "execution_count": 11,
     "metadata": {},
     "output_type": "execute_result"
    }
   ],
   "source": [
    "# Your answer here: \n",
    "#use .lower(), for example\n",
    "greetings = \"HELLO\"\n",
    "greetings.lower()"
   ]
  },
  {
   "cell_type": "markdown",
   "metadata": {},
   "source": [
    "21. (2pt)How do you convert a string to a list in python? Give an example."
   ]
  },
  {
   "cell_type": "code",
   "execution_count": 3,
   "metadata": {},
   "outputs": [],
   "source": [
    "# Your answer here: "
   ]
  },
  {
   "cell_type": "markdown",
   "metadata": {},
   "source": [
    "22. (2pt) How do you convert a string to a tuple in python? Give an example."
   ]
  },
  {
   "cell_type": "code",
   "execution_count": 4,
   "metadata": {},
   "outputs": [],
   "source": [
    "# Your answer here: "
   ]
  },
  {
   "cell_type": "markdown",
   "metadata": {},
   "source": [
    "23. (2pt) How do you convert a string to an int in python? Give an example."
   ]
  },
  {
   "cell_type": "code",
   "execution_count": 17,
   "metadata": {},
   "outputs": [
    {
     "name": "stdout",
     "output_type": "stream",
     "text": [
      "123\n",
      "<class 'int'>\n"
     ]
    }
   ],
   "source": [
    "# Your answer here: by wrapping the string in an integer function - int()\n",
    "string = \"123\"\n",
    "string_int = int(string)\n",
    "\n",
    "print(string_int)\n",
    "print(type(string_int))  "
   ]
  },
  {
   "cell_type": "markdown",
   "metadata": {},
   "source": [
    "24. (2pt) How do you convert a string to a float in python? Give an example."
   ]
  },
  {
   "cell_type": "code",
   "execution_count": 1,
   "metadata": {},
   "outputs": [
    {
     "name": "stdout",
     "output_type": "stream",
     "text": [
      "19455623.0\n",
      "<class 'float'>\n"
     ]
    }
   ],
   "source": [
    "# Your answer here: \n",
    "num_string = \"19455623\"\n",
    "num_float = float(num_string)\n",
    "\n",
    "print(num_float)\n",
    "print(type(num_float))"
   ]
  },
  {
   "cell_type": "markdown",
   "metadata": {},
   "source": [
    "25. (2pt) What are Python's dictionaries? Give an example of a great use for dictionaries.Give an example."
   ]
  },
  {
   "cell_type": "code",
   "execution_count": 145,
   "metadata": {},
   "outputs": [],
   "source": [
    "# Your answer here: "
   ]
  },
  {
   "cell_type": "markdown",
   "metadata": {},
   "source": [
    "26. (2pt) Create a dictionary with keys and values. Give an example."
   ]
  },
  {
   "cell_type": "code",
   "execution_count": 8,
   "metadata": {},
   "outputs": [],
   "source": [
    "# Your answer here: "
   ]
  },
  {
   "cell_type": "markdown",
   "metadata": {},
   "source": [
    "27. (2pt) How do you get all the values from the dictionary? Give an example."
   ]
  },
  {
   "cell_type": "code",
   "execution_count": 9,
   "metadata": {},
   "outputs": [],
   "source": [
    "# Your answer here: "
   ]
  },
  {
   "cell_type": "markdown",
   "metadata": {},
   "source": [
    "28. (2pt) How do you get all the keys from the dictionary? Give an example."
   ]
  },
  {
   "cell_type": "code",
   "execution_count": 10,
   "metadata": {},
   "outputs": [],
   "source": [
    "# Your answer here: "
   ]
  },
  {
   "cell_type": "markdown",
   "metadata": {},
   "source": [
    "29. (2pt) How do you capitalizes first letter of string? Give an example."
   ]
  },
  {
   "cell_type": "code",
   "execution_count": 25,
   "metadata": {},
   "outputs": [
    {
     "name": "stdout",
     "output_type": "stream",
     "text": [
      "Python\n"
     ]
    }
   ],
   "source": [
    "# Your answer here: by attaching .capitalize()\n",
    "\n",
    "greetings = \"python\"\n",
    "capital_greetings = greetings.capitalize() #this will capitalize only the first letter\n",
    "\n",
    "print(capital_greetings)"
   ]
  },
  {
   "cell_type": "markdown",
   "metadata": {},
   "source": [
    "30. (2pt) How do you check in a string that all characters are digits? Give an example.\n"
   ]
  },
  {
   "cell_type": "code",
   "execution_count": 37,
   "metadata": {},
   "outputs": [
    {
     "name": "stdout",
     "output_type": "stream",
     "text": [
      "True\n",
      "False\n"
     ]
    }
   ],
   "source": [
    "# Your answer here: through the .isdigit()\n",
    "\n",
    "num = \"456783\"\n",
    "mixednum = \"45637eft6\"\n",
    "is_num = num.isdigit()\n",
    "is_mixednum = mixednum.isdigit()\n",
    "\n",
    "print(is_num)\n",
    "print(is_mixednum)"
   ]
  },
  {
   "cell_type": "markdown",
   "metadata": {},
   "source": [
    "31. (2pt) How do you check in a string that all characters are alphanumeric? Give an example."
   ]
  },
  {
   "cell_type": "code",
   "execution_count": 47,
   "metadata": {},
   "outputs": [
    {
     "name": "stdout",
     "output_type": "stream",
     "text": [
      "True\n",
      "True\n",
      "True\n"
     ]
    }
   ],
   "source": [
    "# Your answer here: by using the .alnum()\n",
    "alphanum = \"456mk78fgty3\"\n",
    "string = \"jennifer\"\n",
    "num = \"123\"\n",
    "is_alphanum = alphanum.isalnum()\n",
    "is_string = string.isalnum()\n",
    "is_num = num.isalnum()\n",
    "\n",
    "print(is_alphanum)\n",
    "print(is_string)\n",
    "print(is_num)\n",
    "\n",
    "\n",
    "##I noticed that isalnum() checks for all characters in the string, so even if it only contains letters or/and numbers, it is considered alphanumeric"
   ]
  },
  {
   "cell_type": "markdown",
   "metadata": {},
   "source": [
    "32. (2pt) How do you check in a string that all characters are in lowercase? Give an example."
   ]
  },
  {
   "cell_type": "code",
   "execution_count": 61,
   "metadata": {},
   "outputs": [
    {
     "name": "stdout",
     "output_type": "stream",
     "text": [
      "False\n"
     ]
    }
   ],
   "source": [
    "# Your answer here: through the .islower() function\n",
    "\n",
    "greetings = \"HELLO, I LOVE PYTHON!\"\n",
    "is_lower_greetings = greetings.islower()\n",
    "print(is_lower_greetings)"
   ]
  },
  {
   "cell_type": "markdown",
   "metadata": {},
   "source": [
    "33. (2pt) How do you check in a string that all characters are not numbers. Give an example."
   ]
  },
  {
   "cell_type": "code",
   "execution_count": 63,
   "metadata": {},
   "outputs": [
    {
     "name": "stdout",
     "output_type": "stream",
     "text": [
      "True\n",
      "False\n"
     ]
    }
   ],
   "source": [
    "# Your answer here: You can do this by combine isdigit() and the logical \"not\" operator\n",
    "\n",
    "comment = \"python5050\"\n",
    "word = \"1345289\"\n",
    "comment_not_all_num = not comment.isdigit() #this will check if comment does not have digits\n",
    "word_not_all_num = not num.isdigit() #this will check if num does not have digits\n",
    "print(comment_not_all_num)\n",
    "print(word_not_all_num)"
   ]
  },
  {
   "cell_type": "markdown",
   "metadata": {},
   "source": [
    "33. (2pt) How do you get the length of the string? Give an example."
   ]
  },
  {
   "cell_type": "code",
   "execution_count": 59,
   "metadata": {},
   "outputs": [
    {
     "name": "stdout",
     "output_type": "stream",
     "text": [
      "21\n"
     ]
    }
   ],
   "source": [
    "# Your answer here: By using the len function\n",
    "\n",
    "testimony = \"Yale is a good school\"\n",
    "len_testimony = len(testimony) #this will count how many letters are in testimony\n",
    "print(len_testimony) #this will report the figure"
   ]
  },
  {
   "cell_type": "markdown",
   "metadata": {},
   "source": [
    "34. (2pt) How do you convert a string to all lowercase? Give an example."
   ]
  },
  {
   "cell_type": "code",
   "execution_count": 17,
   "metadata": {},
   "outputs": [],
   "source": [
    "# Your answer here: through the .lower()\n",
    "\n",
    "greetings = \"HELLO, I LOVE PYTHON!\"\n",
    "greetings = greetings.lower()\n",
    "print(greetings)"
   ]
  },
  {
   "cell_type": "markdown",
   "metadata": {},
   "source": [
    "35. (2pt) How do you remove all leading whitespace in string? Give an example."
   ]
  },
  {
   "cell_type": "code",
   "execution_count": 81,
   "metadata": {},
   "outputs": [
    {
     "name": "stdout",
     "output_type": "stream",
     "text": [
      "Jennifer is a lady\n",
      "'Jennifer is a lady'\n",
      "My name is Jennifer\n",
      "'My name is Jennifer'\n"
     ]
    }
   ],
   "source": [
    "# Your answer here: using the Istrip() or the strip() fucntion\n",
    "\n",
    "word = \"    Jennifer is a lady\"\n",
    "stripped_word = word.lstrip()\n",
    "print(stripped_word)\n",
    "print(f\"'{stripped_word}'\") #printing just the word in quotes to be sure the spaces are gone\n",
    "\n",
    "#Another example using strip() which I noticed can remove both leading and ending spaces\n",
    "\n",
    "name = \"    My name is Jennifer   \"\n",
    "name_stripped = name.strip()\n",
    "print(name_stripped)\n",
    "print(f\"'{name_stripped}'\")"
   ]
  },
  {
   "cell_type": "markdown",
   "metadata": {},
   "source": [
    "36. (2pt) What is the difference between del() and remove() methods of list? Give an example."
   ]
  },
  {
   "cell_type": "code",
   "execution_count": 19,
   "metadata": {},
   "outputs": [],
   "source": [
    "# Your answer here: through the strip function"
   ]
  },
  {
   "cell_type": "markdown",
   "metadata": {},
   "source": [
    "37. (2pt) How do you get the index of an object in a list? Give an example."
   ]
  },
  {
   "cell_type": "code",
   "execution_count": 20,
   "metadata": {},
   "outputs": [],
   "source": [
    "# Your answer here: "
   ]
  },
  {
   "cell_type": "markdown",
   "metadata": {},
   "source": [
    "38. (2pt) How do you insert an object at given index in a list? Give an example."
   ]
  },
  {
   "cell_type": "code",
   "execution_count": 21,
   "metadata": {},
   "outputs": [],
   "source": [
    "# Your answer here: "
   ]
  },
  {
   "cell_type": "markdown",
   "metadata": {},
   "source": [
    "39. (2pt) How do you get the length of a list? Give an example."
   ]
  },
  {
   "cell_type": "code",
   "execution_count": 22,
   "metadata": {},
   "outputs": [],
   "source": [
    "# Your answer here: "
   ]
  },
  {
   "cell_type": "markdown",
   "metadata": {},
   "source": [
    "40. (2pt) How do you remove last object from a list?"
   ]
  },
  {
   "cell_type": "code",
   "execution_count": 23,
   "metadata": {},
   "outputs": [],
   "source": [
    "# Your answer here: "
   ]
  },
  {
   "cell_type": "markdown",
   "metadata": {},
   "source": [
    "41. (2pt) How do you reverse a list? Give an example."
   ]
  },
  {
   "cell_type": "code",
   "execution_count": 24,
   "metadata": {},
   "outputs": [],
   "source": [
    "# Your answer here: "
   ]
  },
  {
   "cell_type": "markdown",
   "metadata": {},
   "source": [
    "42. (2pt) How would you slice a list? Give an example."
   ]
  },
  {
   "cell_type": "code",
   "execution_count": 28,
   "metadata": {},
   "outputs": [],
   "source": [
    "# Your answer here: "
   ]
  },
  {
   "cell_type": "markdown",
   "metadata": {},
   "source": [
    "43. (10 pts) Iterate through a list and create a new list with only happy words. A happy is anything above the threshold. Print your happy word list without values (just words)."
   ]
  },
  {
   "cell_type": "code",
   "execution_count": 30,
   "metadata": {},
   "outputs": [],
   "source": [
    "threshold = 0.5\n",
    "feelings = [('blue', 0.1), ('melancholy',0.4), ('fine', 0.5 ), ('okay',0.5), ('overjoyed',1.0), ('blissful',0.9), ('chocolately',0.8)]\n",
    "# your code here:\n"
   ]
  },
  {
   "cell_type": "markdown",
   "metadata": {},
   "source": [
    "44. (5 pts) Take a user input that takes in a user's name, age.\n",
    "Create an f string that prints \"Hello \"name\", how does it feel to be \"age?\"\n",
    "Then create an answer that takes a random choice from your happy_word list, and print \"Gee, it feels \"answer\" to be \"age\". Thanks for asking!\"\n",
    "\n"
   ]
  },
  {
   "cell_type": "code",
   "execution_count": 32,
   "metadata": {
    "scrolled": true
   },
   "outputs": [],
   "source": [
    "# Your code here:"
   ]
  },
  {
   "cell_type": "markdown",
   "metadata": {},
   "source": [
    "45. (5 pts) Convert the following quote to a single string assigned to the variable Brzezinski, without numbers or special characters. Print the output. Make sure you add quotation marks to the beginning and end of the quote.\n"
   ]
  },
  {
   "cell_type": "code",
   "execution_count": 39,
   "metadata": {},
   "outputs": [],
   "source": [
    "quote = [[('Most Americans ^331 are close to total ignorance about the world. They are ignorant. That is an unhealthy condition in a country in which foreign policy has to be endorsed by the people 402 if it is to be pursued. And 404 it makes it much more difficult for any president to pursue an intelligent %%&* policy that does justice to the complexity of the world.')]]\n",
    "\n",
    "# Your code here:"
   ]
  },
  {
   "cell_type": "markdown",
   "metadata": {},
   "source": [
    "46. (1pts) There is a wikipedia package for Python! It makes it super easy to collect and parse entries. Install it and print a summary of the Marquis de Lafayette in French."
   ]
  },
  {
   "cell_type": "code",
   "execution_count": 35,
   "metadata": {},
   "outputs": [],
   "source": [
    "# Your code here:"
   ]
  },
  {
   "cell_type": "markdown",
   "metadata": {},
   "source": [
    "47. (4pts) Write a function that takes two arguments, name and hometown  and prints a statement that says, \"Well hello 'name', you must be from 'hometown' as an f string when called."
   ]
  },
  {
   "cell_type": "code",
   "execution_count": 89,
   "metadata": {},
   "outputs": [
    {
     "name": "stdin",
     "output_type": "stream",
     "text": [
      "What is your name?  Jen\n",
      "Where are you from?  NIg\n"
     ]
    },
    {
     "name": "stdout",
     "output_type": "stream",
     "text": [
      "Well! Hello Jen, you must be from NIg.\n"
     ]
    }
   ],
   "source": [
    "#Your code here:\n",
    "name = input(\"What is your name? \")\n",
    "hometown = input(\"Where are you from? \")\n",
    "#print the needed comments\n",
    "print(f\"Well! Hello {name}, you must be from {hometown}.\")"
   ]
  },
  {
   "cell_type": "code",
   "execution_count": null,
   "metadata": {},
   "outputs": [],
   "source": [
    "48. Write a script that takes an age as a user input and prints the following, based on conditions, using if, elif, and else:\n",
    "\n",
    "If the age is 1-18: print \"This individual is a minor. Their brain is still growing.\"\n",
    "If the age is 19-25: print. \"Though the brain may be done growing in size, it does not finish developing and maturing until the mid- to late 20s\"\n",
    "If the age is 26-40: \"Accomplish what you can before your brain rots!\"\n",
    "If the age is 41-100: \"Don't despair! For the first time, researchers have been able to identify superagers MRI images of the brains of superagers with an average age of 67 are remarkably similar to the brain of 25-year-olds.\"m"
   ]
  },
  {
   "cell_type": "code",
   "execution_count": 99,
   "metadata": {},
   "outputs": [
    {
     "name": "stdin",
     "output_type": "stream",
     "text": [
      "How old are you? (write only a number)?  24\n"
     ]
    },
    {
     "name": "stdout",
     "output_type": "stream",
     "text": [
      "Though the brain may be done growing in size, it does not finish developing and maturing until the mid- to late 20s\n"
     ]
    }
   ],
   "source": [
    "#Your code here:\n",
    "age = int(input(\"How old are you? (write only a number)? \")) #converted to int to avoid errors\n",
    "\n",
    "#the if statements now\n",
    "if 1 <= age <= 18:\n",
    "    print (\"This individual is a minor. Their brain is still growing.\")\n",
    "elif 19 <= age <=25:\n",
    "    print (\"Though the brain may be done growing in size, it does not finish developing and maturing until the mid- to late 20s\")\n",
    "elif 26<= age <= 40:\n",
    "    print (\"Accomplish what you can before your brain rots!\")\n",
    "elif 41<= age <= 100:\n",
    "    print (\"Don't despair! For the first time, researchers have been able to identify superagers MRI images of the brains of superagers with an average age of 67 are remarkably similar to the brain of 25-year-olds.\")\n",
    "else:\n",
    "    print (\"The number you have entered does not fall into the range of 1-100, or it is not a number. Follow the instructions and try again!\")\n",
    "    "
   ]
  },
  {
   "cell_type": "code",
   "execution_count": null,
   "metadata": {},
   "outputs": [],
   "source": [
    "49.Write a while loop that counts down from 20 to \"blastoff\":\n",
    "\n",
    "hint: decrement each time using n = n -1 or using -=\n",
    "n = 20"
   ]
  },
  {
   "cell_type": "code",
   "execution_count": 103,
   "metadata": {},
   "outputs": [
    {
     "name": "stdout",
     "output_type": "stream",
     "text": [
      "20\n",
      "19\n",
      "18\n",
      "17\n",
      "16\n",
      "15\n",
      "14\n",
      "13\n",
      "12\n",
      "11\n",
      "10\n",
      "9\n",
      "8\n",
      "7\n",
      "6\n",
      "5\n",
      "4\n",
      "3\n",
      "2\n",
      "1\n",
      "Blastoff!\n"
     ]
    }
   ],
   "source": [
    "#Your code here:\n",
    "n = 20 #(starting point)\n",
    "while n>0: #accepted numbers must be greater than zero\n",
    "    print(n)\n",
    "    n = n-1 # after printing each n, it goes back to the loop deducts 1 and continues printing\n",
    "#when counting it over, it will print \"blastoff\" below\n",
    "print(\"Blastoff!\")"
   ]
  },
  {
   "cell_type": "code",
   "execution_count": 109,
   "metadata": {},
   "outputs": [
    {
     "name": "stdout",
     "output_type": "stream",
     "text": [
      "Jackson Python\n"
     ]
    }
   ],
   "source": [
    "50.#Write code, usting the strip method, to remove the unecessary characters, and add a space to print Jackson Python\n",
    "\n",
    "jackson_string = \"grrrrr....ughhhh..JacksonPython@@@!!!!\"\n",
    "\n",
    "#this will be done using the replace function\n",
    "strip_jackson_string = jackson_string.replace('.', '').replace('@', ' ').replace('!', '').replace('grrrrr','').replace('ughhhh', '') #this line of code will replace all the unwanted characters by nothing, and the strip() will remove the leading and strailing spaces\n",
    "strip_jackson_string = strip_jackson_string.strip()\n",
    "#inserting a space between jackson and python\n",
    "result_strip_string = strip_jackson_string[:7] + ' ' + strip_jackson_string[7:] # this means it will count the first 7 letters and add a space afterwars. The two words are concated wiith a space in a quote\n",
    "print(result_strip_string)"
   ]
  },
  {
   "cell_type": "code",
   "execution_count": 7,
   "metadata": {},
   "outputs": [
    {
     "data": {
      "text/plain": [
       "'/Users/ck_mac_pro/Downloads'"
      ]
     },
     "execution_count": 7,
     "metadata": {},
     "output_type": "execute_result"
    }
   ],
   "source": []
  }
 ],
 "metadata": {
  "kernelspec": {
   "display_name": "Python 3 (ipykernel)",
   "language": "python",
   "name": "python3"
  },
  "language_info": {
   "codemirror_mode": {
    "name": "ipython",
    "version": 3
   },
   "file_extension": ".py",
   "mimetype": "text/x-python",
   "name": "python",
   "nbconvert_exporter": "python",
   "pygments_lexer": "ipython3",
   "version": "3.12.4"
  }
 },
 "nbformat": 4,
 "nbformat_minor": 4
}
